{
 "cells": [
  {
   "cell_type": "code",
   "execution_count": 1,
   "metadata": {},
   "outputs": [],
   "source": [
    "import numpy as np"
   ]
  },
  {
   "cell_type": "markdown",
   "metadata": {},
   "source": [
    "随机播种，以便结果一致"
   ]
  },
  {
   "cell_type": "code",
   "execution_count": 2,
   "metadata": {},
   "outputs": [],
   "source": [
    "np.random.seed(0)"
   ]
  },
  {
   "cell_type": "code",
   "execution_count": 5,
   "metadata": {},
   "outputs": [],
   "source": [
    "x1 = np.random.randint(10,size=6)\n",
    "x2 = np.random.randint(10,size=(3,4))\n",
    "x3 = np.random.randint(10,size=(3,4,5))"
   ]
  },
  {
   "cell_type": "markdown",
   "metadata": {},
   "source": [
    "计算x3的数组维度（ndim），数组每个维度的大小（shape），数组的总大小（size），数组类型（dtype）,每个数组元素字节大小（itemsize），总字节大小（nbytes）"
   ]
  },
  {
   "cell_type": "code",
   "execution_count": 10,
   "metadata": {},
   "outputs": [
    {
     "name": "stdout",
     "output_type": "stream",
     "text": [
      "x3 ndim: 3\n",
      "x3 shape: (3, 4, 5)\n",
      "x3 size: 60\n",
      "x3 dtype: int32\n",
      "x3 itemsize: 4\n",
      "x3 nbytes: 240\n"
     ]
    }
   ],
   "source": [
    "print(\"x3 ndim:\",x3.ndim)\n",
    "print(\"x3 shape:\",x3.shape)\n",
    "print(\"x3 size:\",x3.size)\n",
    "print(\"x3 dtype:\",x3.dtype)\n",
    "print(\"x3 itemsize:\",x3.itemsize)\n",
    "print(\"x3 nbytes:\",x3.nbytes)"
   ]
  },
  {
   "cell_type": "code",
   "execution_count": null,
   "metadata": {},
   "outputs": [],
   "source": []
  }
 ],
 "metadata": {
  "kernelspec": {
   "display_name": "Python 3",
   "language": "python",
   "name": "python3"
  },
  "language_info": {
   "codemirror_mode": {
    "name": "ipython",
    "version": 3
   },
   "file_extension": ".py",
   "mimetype": "text/x-python",
   "name": "python",
   "nbconvert_exporter": "python",
   "pygments_lexer": "ipython3",
   "version": "3.7.0"
  }
 },
 "nbformat": 4,
 "nbformat_minor": 2
}
