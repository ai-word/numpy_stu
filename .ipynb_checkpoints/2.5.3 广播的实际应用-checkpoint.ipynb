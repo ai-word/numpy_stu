{
 "cells": [
  {
   "cell_type": "code",
   "execution_count": 1,
   "metadata": {},
   "outputs": [],
   "source": [
    "import numpy as np"
   ]
  },
  {
   "cell_type": "code",
   "execution_count": 4,
   "metadata": {},
   "outputs": [
    {
     "name": "stdout",
     "output_type": "stream",
     "text": [
      "[[0.45232741 0.35588323 0.24232631]\n",
      " [0.60133407 0.02550465 0.0760644 ]\n",
      " [0.17642543 0.54745056 0.24244315]\n",
      " [0.20742729 0.57812426 0.4864733 ]\n",
      " [0.21479605 0.31960483 0.78321545]\n",
      " [0.32343853 0.07727144 0.59984488]\n",
      " [0.70399251 0.28432435 0.30405861]\n",
      " [0.87848748 0.60935891 0.83446928]\n",
      " [0.05589366 0.53893267 0.91601238]\n",
      " [0.53027343 0.08822401 0.61316156]]\n"
     ]
    }
   ],
   "source": [
    "a = np.random.random(size=(10,3))\n",
    "print(a)"
   ]
  },
  {
   "cell_type": "code",
   "execution_count": 12,
   "metadata": {},
   "outputs": [
    {
     "name": "stdout",
     "output_type": "stream",
     "text": [
      "[0.41443959 0.34246789 0.50980693]\n"
     ]
    }
   ],
   "source": [
    "x = a.mean(0)\n",
    "print(x)"
   ]
  },
  {
   "cell_type": "code",
   "execution_count": 13,
   "metadata": {},
   "outputs": [
    {
     "name": "stdout",
     "output_type": "stream",
     "text": [
      "[0.35017898 0.23430104 0.32210638 0.42400828 0.43920544 0.33351828\n",
      " 0.43079182 0.77410522 0.50361291 0.410553  ]\n"
     ]
    }
   ],
   "source": [
    "y = a.mean(axis=1)\n",
    "print(y)"
   ]
  },
  {
   "cell_type": "code",
   "execution_count": 14,
   "metadata": {},
   "outputs": [
    {
     "data": {
      "text/plain": [
       "array([[ 0.03788783,  0.01341534, -0.26748062],\n",
       "       [ 0.18689448, -0.31696324, -0.43374253],\n",
       "       [-0.23801416,  0.20498267, -0.26736378],\n",
       "       [-0.2070123 ,  0.23565637, -0.02333363],\n",
       "       [-0.19964354, -0.02286306,  0.27340851],\n",
       "       [-0.09100106, -0.26519645,  0.09003795],\n",
       "       [ 0.28955293, -0.05814354, -0.20574832],\n",
       "       [ 0.4640479 ,  0.26689102,  0.32466235],\n",
       "       [-0.35854592,  0.19646478,  0.40620545],\n",
       "       [ 0.11583384, -0.25424388,  0.10335462]])"
      ]
     },
     "execution_count": 14,
     "metadata": {},
     "output_type": "execute_result"
    }
   ],
   "source": [
    "a-x"
   ]
  },
  {
   "cell_type": "markdown",
   "metadata": {},
   "source": [
    "a-y是不行的，因为广播规则，\n",
    "a.shape->(10,3)\n",
    "y.shape->(10,)->(1,10)\n",
    "不匹配，报错"
   ]
  },
  {
   "cell_type": "code",
   "execution_count": null,
   "metadata": {},
   "outputs": [],
   "source": []
  }
 ],
 "metadata": {
  "kernelspec": {
   "display_name": "Python 3",
   "language": "python",
   "name": "python3"
  },
  "language_info": {
   "codemirror_mode": {
    "name": "ipython",
    "version": 3
   },
   "file_extension": ".py",
   "mimetype": "text/x-python",
   "name": "python",
   "nbconvert_exporter": "python",
   "pygments_lexer": "ipython3",
   "version": "3.7.0"
  }
 },
 "nbformat": 4,
 "nbformat_minor": 2
}
