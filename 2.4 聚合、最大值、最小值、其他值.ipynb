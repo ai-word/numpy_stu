{
 "cells": [
  {
   "cell_type": "code",
   "execution_count": 1,
   "metadata": {},
   "outputs": [],
   "source": [
    "import numpy as np"
   ]
  },
  {
   "cell_type": "code",
   "execution_count": 13,
   "metadata": {},
   "outputs": [
    {
     "name": "stdout",
     "output_type": "stream",
     "text": [
      "[0.31180231 0.14011683 0.735799   0.11283028 0.07801595 0.61057714\n",
      " 0.75707252 0.28111344 0.59668049 0.4007205  0.720248   0.45916147\n",
      " 0.87518801 0.12300841 0.36399528 0.03961681 0.88761338 0.77042798\n",
      " 0.41097353 0.53228925 0.49887725 0.98350386 0.55656416 0.59077645\n",
      " 0.55801487 0.93689697 0.69835363 0.36448128 0.44597457 0.8733701\n",
      " 0.74178608 0.95214869 0.8685303  0.59463902 0.66913091 0.38427393\n",
      " 0.80304269 0.51139915 0.92744895 0.45918141 0.99690597 0.94375537\n",
      " 0.92500602 0.20160083 0.42489517 0.92049153 0.46512535 0.55202926\n",
      " 0.49006156 0.76344172 0.70932816 0.34633502 0.49373149 0.29361286\n",
      " 0.34168362 0.02608592 0.6060033  0.80002354 0.43307889 0.45502869\n",
      " 0.61792551 0.16569956 0.85298075 0.72724646 0.37747095 0.0924146\n",
      " 0.92972016 0.29793396 0.21481171 0.91629353 0.26269347 0.89299318\n",
      " 0.43472939 0.3111767  0.40569507 0.63782422 0.40788937 0.09841491\n",
      " 0.08000102 0.40539992 0.08209228 0.4970117  0.03443146 0.70372756\n",
      " 0.66654164 0.82934499 0.48325454 0.32653518 0.17072476 0.35353731\n",
      " 0.58775278 0.99960307 0.45073543 0.48523271 0.80592521 0.71596618\n",
      " 0.23910163 0.93817007 0.86654758 0.75922366]\n"
     ]
    }
   ],
   "source": [
    "x = np.random.random(100)\n",
    "print(x)"
   ]
  },
  {
   "cell_type": "markdown",
   "metadata": {},
   "source": [
    "聚合"
   ]
  },
  {
   "cell_type": "code",
   "execution_count": 14,
   "metadata": {},
   "outputs": [
    {
     "data": {
      "text/plain": [
       "53.938643325452574"
      ]
     },
     "execution_count": 14,
     "metadata": {},
     "output_type": "execute_result"
    }
   ],
   "source": [
    "sum(x)"
   ]
  },
  {
   "cell_type": "code",
   "execution_count": 19,
   "metadata": {},
   "outputs": [
    {
     "data": {
      "text/plain": [
       "53.93864332545258"
      ]
     },
     "execution_count": 19,
     "metadata": {},
     "output_type": "execute_result"
    }
   ],
   "source": [
    "np.sum(x)"
   ]
  },
  {
   "cell_type": "code",
   "execution_count": 20,
   "metadata": {},
   "outputs": [
    {
     "data": {
      "text/plain": [
       "53.93864332545258"
      ]
     },
     "execution_count": 20,
     "metadata": {},
     "output_type": "execute_result"
    }
   ],
   "source": [
    "np.add.reduce(x)"
   ]
  },
  {
   "cell_type": "markdown",
   "metadata": {},
   "source": [
    "最大值、最小值"
   ]
  },
  {
   "cell_type": "code",
   "execution_count": 17,
   "metadata": {},
   "outputs": [
    {
     "data": {
      "text/plain": [
       "0.9996030741504814"
      ]
     },
     "execution_count": 17,
     "metadata": {},
     "output_type": "execute_result"
    }
   ],
   "source": [
    "np.max(x)"
   ]
  },
  {
   "cell_type": "code",
   "execution_count": 18,
   "metadata": {},
   "outputs": [
    {
     "data": {
      "text/plain": [
       "0.026085916756277583"
      ]
     },
     "execution_count": 18,
     "metadata": {},
     "output_type": "execute_result"
    }
   ],
   "source": [
    "np.min(x)"
   ]
  },
  {
   "cell_type": "markdown",
   "metadata": {},
   "source": [
    "其他"
   ]
  },
  {
   "cell_type": "markdown",
   "metadata": {},
   "source": [
    "|函数名|NAN安全版本|描述|\n",
    "|--|--|--|\n",
    "|np.sum|np.nansum|计算元素的和|\n",
    "|np.prod|np.nanprod |计算元素的积|\n",
    "|np.mean|np.nanmean |计算元素的平均值|\n",
    "|np.std |np.nanstd|计算元素的标准差|\n",
    "|np.var |np.nanvar|计算元素的方差|\n",
    "|np.min |np.nanmin|找出最小值|\n",
    "|np.max |np.nanmax|找出最大值|\n",
    "|np.argmin |np.nanargmin |找出最小值的索引|\n",
    "|np.argmax |np.nanargmax|找出最大值的索引|\n",
    "|np.median |np.nanmedian|计算元素的中位数|\n",
    "|np.percentile |np.nanpercentile|计算基于元素排序的统计值|\n",
    "|np.any |N/A|验证任何一个元素是否为真|\n",
    "|np.all |N/A|验证所有元素是否为真|\n"
   ]
  },
  {
   "cell_type": "code",
   "execution_count": null,
   "metadata": {},
   "outputs": [],
   "source": []
  }
 ],
 "metadata": {
  "kernelspec": {
   "display_name": "Python 3",
   "language": "python",
   "name": "python3"
  },
  "language_info": {
   "codemirror_mode": {
    "name": "ipython",
    "version": 3
   },
   "file_extension": ".py",
   "mimetype": "text/x-python",
   "name": "python",
   "nbconvert_exporter": "python",
   "pygments_lexer": "ipython3",
   "version": "3.7.0"
  }
 },
 "nbformat": 4,
 "nbformat_minor": 2
}
