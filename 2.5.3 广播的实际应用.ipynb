{
 "cells": [
  {
   "cell_type": "code",
   "execution_count": 16,
   "metadata": {},
   "outputs": [],
   "source": [
    "import numpy as np"
   ]
  },
  {
   "cell_type": "code",
   "execution_count": 17,
   "metadata": {},
   "outputs": [
    {
     "name": "stdout",
     "output_type": "stream",
     "text": [
      "[[0.08229957 0.75046651 0.47342119]\n",
      " [0.0266124  0.12601663 0.2385181 ]\n",
      " [0.14945965 0.03231239 0.90736704]\n",
      " [0.87563407 0.60327961 0.9955092 ]\n",
      " [0.43979316 0.06359614 0.022718  ]\n",
      " [0.82567556 0.65761391 0.37928567]\n",
      " [0.37813645 0.31604295 0.51622387]\n",
      " [0.70525122 0.60214802 0.79190409]\n",
      " [0.48362808 0.1335137  0.54393551]\n",
      " [0.7386096  0.94427711 0.828711  ]]\n"
     ]
    }
   ],
   "source": [
    "a = np.random.random(size=(10,3))\n",
    "print(a)"
   ]
  },
  {
   "cell_type": "code",
   "execution_count": 18,
   "metadata": {},
   "outputs": [
    {
     "name": "stdout",
     "output_type": "stream",
     "text": [
      "[0.47050998 0.4229267  0.56975936]\n"
     ]
    }
   ],
   "source": [
    "x = a.mean(0)\n",
    "print(x)"
   ]
  },
  {
   "cell_type": "code",
   "execution_count": 19,
   "metadata": {},
   "outputs": [
    {
     "name": "stdout",
     "output_type": "stream",
     "text": [
      "[0.43539576 0.13038237 0.36304636 0.82480763 0.1753691  0.62085838\n",
      " 0.40346776 0.69976778 0.38702576 0.83719924]\n"
     ]
    }
   ],
   "source": [
    "y = a.mean(axis=1)\n",
    "print(y)"
   ]
  },
  {
   "cell_type": "code",
   "execution_count": 21,
   "metadata": {},
   "outputs": [
    {
     "name": "stdout",
     "output_type": "stream",
     "text": [
      "[[-0.3882104   0.32753981 -0.09633818]\n",
      " [-0.44389758 -0.29691007 -0.33124127]\n",
      " [-0.32105033 -0.39061431  0.33760767]\n",
      " [ 0.40512409  0.18035292  0.42574983]\n",
      " [-0.03071681 -0.35933056 -0.54704136]\n",
      " [ 0.35516559  0.23468721 -0.1904737 ]\n",
      " [-0.09237353 -0.10688374 -0.05353549]\n",
      " [ 0.23474124  0.17922133  0.22214472]\n",
      " [ 0.0131181  -0.289413   -0.02582386]\n",
      " [ 0.26809962  0.52135042  0.25895163]]\n"
     ]
    }
   ],
   "source": [
    "m = a-x\n",
    "print(m)"
   ]
  },
  {
   "cell_type": "markdown",
   "metadata": {},
   "source": [
    "a-y是不行的，因为广播规则，\n",
    "a.shape->(10,3)\n",
    "y.shape->(10,)->(1,10)\n",
    "不匹配，报错"
   ]
  },
  {
   "cell_type": "code",
   "execution_count": 22,
   "metadata": {},
   "outputs": [
    {
     "data": {
      "text/plain": [
       "array([ 1.11022302e-17, -6.66133815e-17,  5.55111512e-17])"
      ]
     },
     "execution_count": 22,
     "metadata": {},
     "output_type": "execute_result"
    }
   ],
   "source": [
    "m.mean(0)"
   ]
  },
  {
   "cell_type": "code",
   "execution_count": null,
   "metadata": {},
   "outputs": [],
   "source": []
  }
 ],
 "metadata": {
  "kernelspec": {
   "display_name": "Python 3",
   "language": "python",
   "name": "python3"
  },
  "language_info": {
   "codemirror_mode": {
    "name": "ipython",
    "version": 3
   },
   "file_extension": ".py",
   "mimetype": "text/x-python",
   "name": "python",
   "nbconvert_exporter": "python",
   "pygments_lexer": "ipython3",
   "version": "3.7.0"
  }
 },
 "nbformat": 4,
 "nbformat_minor": 2
}
