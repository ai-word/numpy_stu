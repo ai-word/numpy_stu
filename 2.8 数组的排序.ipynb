{
 "cells": [
  {
   "cell_type": "code",
   "execution_count": 1,
   "metadata": {},
   "outputs": [],
   "source": [
    "import numpy as np"
   ]
  },
  {
   "cell_type": "code",
   "execution_count": 8,
   "metadata": {},
   "outputs": [
    {
     "name": "stdout",
     "output_type": "stream",
     "text": [
      "[12 36 16 53  8 29 75 30 33 72 68 52  2 22 76 23  5 12 35 39]\n"
     ]
    }
   ],
   "source": [
    "x = np.random.randint(0,100,20)\n",
    "print(x)"
   ]
  },
  {
   "cell_type": "markdown",
   "metadata": {},
   "source": [
    "sort argsort 快速排序（默认，可以改）"
   ]
  },
  {
   "cell_type": "code",
   "execution_count": 9,
   "metadata": {},
   "outputs": [
    {
     "data": {
      "text/plain": [
       "array([ 2,  5,  8, 12, 12, 16, 22, 23, 29, 30, 33, 35, 36, 39, 52, 53, 68,\n",
       "       72, 75, 76])"
      ]
     },
     "execution_count": 9,
     "metadata": {},
     "output_type": "execute_result"
    }
   ],
   "source": [
    "np.sort(x)"
   ]
  },
  {
   "cell_type": "code",
   "execution_count": 13,
   "metadata": {},
   "outputs": [
    {
     "name": "stdout",
     "output_type": "stream",
     "text": [
      "[12 16  4  0 17  2 13 15  5  7  8 18  1 19 11  3 10  9  6 14]\n"
     ]
    }
   ],
   "source": [
    "index = np.argsort(x) # 获取索引\n",
    "print(index)"
   ]
  },
  {
   "cell_type": "code",
   "execution_count": 14,
   "metadata": {},
   "outputs": [
    {
     "data": {
      "text/plain": [
       "array([ 2,  5,  8, 12, 12, 16, 22, 23, 29, 30, 33, 35, 36, 39, 52, 53, 68,\n",
       "       72, 75, 76])"
      ]
     },
     "execution_count": 14,
     "metadata": {},
     "output_type": "execute_result"
    }
   ],
   "source": [
    "x[index]"
   ]
  },
  {
   "cell_type": "markdown",
   "metadata": {},
   "source": [
    "沿着行或列排序"
   ]
  },
  {
   "cell_type": "code",
   "execution_count": 16,
   "metadata": {},
   "outputs": [
    {
     "name": "stdout",
     "output_type": "stream",
     "text": [
      "[[23 37 55 72 81]\n",
      " [60 68 35 41 29]\n",
      " [39 88 53 39 36]\n",
      " [58 29 23  4 30]\n",
      " [30 38 98 36 75]]\n"
     ]
    }
   ],
   "source": [
    "y = np.random.randint(0,100,(5,5))\n",
    "print(y)"
   ]
  },
  {
   "cell_type": "code",
   "execution_count": 22,
   "metadata": {},
   "outputs": [
    {
     "name": "stdout",
     "output_type": "stream",
     "text": [
      "[[23 29 23  4 29]\n",
      " [30 37 35 36 30]\n",
      " [39 38 53 39 36]\n",
      " [58 68 55 41 75]\n",
      " [60 88 98 72 81]] \n",
      "---\n",
      " [[23 37 55 72 81]\n",
      " [29 35 41 60 68]\n",
      " [36 39 39 53 88]\n",
      " [ 4 23 29 30 58]\n",
      " [30 36 38 75 98]]\n"
     ]
    }
   ],
   "source": [
    "a = np.sort(y,axis=0) # 对X的每一列排序\n",
    "b = np.sort(y,axis=-1) # 对X每一行排序\n",
    "print(a,\"\\n---\\n\",b)"
   ]
  },
  {
   "cell_type": "code",
   "execution_count": 28,
   "metadata": {},
   "outputs": [
    {
     "data": {
      "text/plain": [
       "array([[23, 37, 55, 72, 81],\n",
       "       [29, 35, 41, 60, 68],\n",
       "       [36, 39, 39, 53, 88],\n",
       "       [ 4, 23, 29, 30, 58],\n",
       "       [30, 36, 38, 75, 98]])"
      ]
     },
     "execution_count": 28,
     "metadata": {},
     "output_type": "execute_result"
    }
   ],
   "source": [
    "np.sort(y,axis=-1,kind=\"mergesort\") # 归并排序（mergesort）和堆排序（heapsort）"
   ]
  },
  {
   "cell_type": "code",
   "execution_count": 33,
   "metadata": {},
   "outputs": [
    {
     "data": {
      "text/plain": [
       "array([[81, 72, 55, 37, 23],\n",
       "       [68, 60, 41, 35, 29],\n",
       "       [88, 53, 39, 39, 36],\n",
       "       [58, 30, 29, 23,  4],\n",
       "       [98, 75, 38, 36, 30]])"
      ]
     },
     "execution_count": 33,
     "metadata": {},
     "output_type": "execute_result"
    }
   ],
   "source": [
    "-np.sort(-y) # 降序，没找到对应方法"
   ]
  },
  {
   "cell_type": "markdown",
   "metadata": {},
   "source": [
    "部分排序:分隔"
   ]
  },
  {
   "cell_type": "markdown",
   "metadata": {},
   "source": [
    "结果数组中前三个值是数组中最小的三个值，剩下的位置是原始数组剩下的值。 \n",
    "\n",
    "[2, 1, 3,|4, 6, 5, 7]\n",
    "\n",
    "在这两个分隔区间中，元素都是任意排列的"
   ]
  },
  {
   "cell_type": "code",
   "execution_count": 35,
   "metadata": {},
   "outputs": [
    {
     "data": {
      "text/plain": [
       "array([2, 1, 3, 4, 6, 5, 7])"
      ]
     },
     "execution_count": 35,
     "metadata": {},
     "output_type": "execute_result"
    }
   ],
   "source": [
    "x = np.array([7, 2, 3, 1, 6, 5, 4])\n",
    "np.partition(x, 3)"
   ]
  },
  {
   "cell_type": "code",
   "execution_count": null,
   "metadata": {},
   "outputs": [],
   "source": []
  }
 ],
 "metadata": {
  "kernelspec": {
   "display_name": "Python 3",
   "language": "python",
   "name": "python3"
  },
  "language_info": {
   "codemirror_mode": {
    "name": "ipython",
    "version": 3
   },
   "file_extension": ".py",
   "mimetype": "text/x-python",
   "name": "python",
   "nbconvert_exporter": "python",
   "pygments_lexer": "ipython3",
   "version": "3.7.0"
  }
 },
 "nbformat": 4,
 "nbformat_minor": 2
}
